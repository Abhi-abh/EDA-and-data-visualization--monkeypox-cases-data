{
 "cells": [
  {
   "cell_type": "markdown",
   "id": "5be4ce2d",
   "metadata": {
    "papermill": {
     "duration": 0.009366,
     "end_time": "2023-11-17T06:45:04.441822",
     "exception": false,
     "start_time": "2023-11-17T06:45:04.432456",
     "status": "completed"
    },
    "tags": []
   },
   "source": [
    "<h1 style=\"padding:5px;background-color:rgb(150, 150, 150);margin:0;color:whote;font-size:300%;text-align:center;border-radius: 50px 50px;overflow:hidden;font-weight:500\">Monkeypox Cases Analysis</h1>"
   ]
  },
  {
   "cell_type": "markdown",
   "id": "c9378d16",
   "metadata": {
    "papermill": {
     "duration": 0.008734,
     "end_time": "2023-11-17T06:45:04.459636",
     "exception": false,
     "start_time": "2023-11-17T06:45:04.450902",
     "status": "completed"
    },
    "tags": []
   },
   "source": [
    "**Mpox (or monkeypox) is an illness caused by the monkeypox virus. It is a viral infection which can spread between people and occasionally from the environment to people via things and surfaces that have been touched by a person with mpox. In settings where the monkeypox virus is present among some wild animals, it can also be transmitted from infected animals to people who have contact with them.**"
   ]
  },
  {
   "cell_type": "markdown",
   "id": "b57c9aba",
   "metadata": {
    "papermill": {
     "duration": 0.008671,
     "end_time": "2023-11-17T06:45:04.477270",
     "exception": false,
     "start_time": "2023-11-17T06:45:04.468599",
     "status": "completed"
    },
    "tags": []
   },
   "source": [
    "# <div style=\"padding:5px 5px 5px;background-color:rgb(20, 250, 250);margin:0;font-size:100%;text-align:center;border-radius: 50px 50px;overflow:hidden;font-weight:500\">Importing Libraries and Loading Data</div>"
   ]
  },
  {
   "cell_type": "code",
   "execution_count": 6,
   "id": "9ecfb42d",
   "metadata": {
    "execution": {
     "iopub.execute_input": "2023-11-17T06:45:04.497576Z",
     "iopub.status.busy": "2023-11-17T06:45:04.497192Z",
     "iopub.status.idle": "2023-11-17T06:45:05.527204Z",
     "shell.execute_reply": "2023-11-17T06:45:05.524801Z"
    },
    "papermill": {
     "duration": 1.052538,
     "end_time": "2023-11-17T06:45:05.538901",
     "exception": false,
     "start_time": "2023-11-17T06:45:04.486363",
     "status": "completed"
    },
    "tags": []
   },
   "outputs": [],
   "source": [
    "# Importing pandas,numpy and matplotlib\n",
    "import pandas as pd\n",
    "import numpy as np\n",
    "import matplotlib.pyplot as plt"
   ]
  },
  {
   "cell_type": "code",
   "execution_count": 7,
   "id": "706b448c",
   "metadata": {
    "execution": {
     "iopub.execute_input": "2023-11-17T06:45:05.573204Z",
     "iopub.status.busy": "2023-11-17T06:45:05.571909Z",
     "iopub.status.idle": "2023-11-17T06:45:05.603561Z",
     "shell.execute_reply": "2023-11-17T06:45:05.602259Z"
    },
    "papermill": {
     "duration": 0.050966,
     "end_time": "2023-11-17T06:45:05.606668",
     "exception": false,
     "start_time": "2023-11-17T06:45:05.555702",
     "status": "completed"
    },
    "tags": []
   },
   "outputs": [],
   "source": [
    "# Use the pd.read_csv() function to read a CSV file and load its contents into a DataFrame.\n",
    "df=pd.read_csv(\"C:/Users/bijua/EDA-and-data-visualization--monkeypox-cases-data/MONKEYPOX_daily_confirmed_cases.csv\")"
   ]
  },
  {
   "cell_type": "code",
   "execution_count": 8,
   "id": "58b1b459",
   "metadata": {
    "execution": {
     "iopub.execute_input": "2023-11-17T06:45:05.627887Z",
     "iopub.status.busy": "2023-11-17T06:45:05.627503Z",
     "iopub.status.idle": "2023-11-17T06:45:05.676674Z",
     "shell.execute_reply": "2023-11-17T06:45:05.675192Z"
    },
    "papermill": {
     "duration": 0.064722,
     "end_time": "2023-11-17T06:45:05.680736",
     "exception": false,
     "start_time": "2023-11-17T06:45:05.616014",
     "status": "completed"
    },
    "tags": []
   },
   "outputs": [
    {
     "data": {
      "text/html": [
       "<div>\n",
       "<style scoped>\n",
       "    .dataframe tbody tr th:only-of-type {\n",
       "        vertical-align: middle;\n",
       "    }\n",
       "\n",
       "    .dataframe tbody tr th {\n",
       "        vertical-align: top;\n",
       "    }\n",
       "\n",
       "    .dataframe thead th {\n",
       "        text-align: right;\n",
       "    }\n",
       "</style>\n",
       "<table border=\"1\" class=\"dataframe\">\n",
       "  <thead>\n",
       "    <tr style=\"text-align: right;\">\n",
       "      <th></th>\n",
       "      <th>Country</th>\n",
       "      <th>Nigeria</th>\n",
       "      <th>Cameroon</th>\n",
       "      <th>Central African Republic</th>\n",
       "      <th>Republic of Congo</th>\n",
       "      <th>England</th>\n",
       "      <th>Democratic Republic Of The Congo</th>\n",
       "      <th>Portugal</th>\n",
       "      <th>Spain</th>\n",
       "      <th>United States</th>\n",
       "      <th>...</th>\n",
       "      <th>Paraguay</th>\n",
       "      <th>South Sudan</th>\n",
       "      <th>El Salvador</th>\n",
       "      <th>Hong Kong</th>\n",
       "      <th>Egypt</th>\n",
       "      <th>Jordan</th>\n",
       "      <th>Guam</th>\n",
       "      <th>Ukraine</th>\n",
       "      <th>Bahrain</th>\n",
       "      <th>China</th>\n",
       "    </tr>\n",
       "  </thead>\n",
       "  <tbody>\n",
       "    <tr>\n",
       "      <th>0</th>\n",
       "      <td>2022-01-31</td>\n",
       "      <td>3</td>\n",
       "      <td>0</td>\n",
       "      <td>0</td>\n",
       "      <td>0</td>\n",
       "      <td>0</td>\n",
       "      <td>0</td>\n",
       "      <td>0</td>\n",
       "      <td>0</td>\n",
       "      <td>0</td>\n",
       "      <td>...</td>\n",
       "      <td>0</td>\n",
       "      <td>0</td>\n",
       "      <td>0</td>\n",
       "      <td>0</td>\n",
       "      <td>0</td>\n",
       "      <td>0</td>\n",
       "      <td>0</td>\n",
       "      <td>0</td>\n",
       "      <td>0</td>\n",
       "      <td>0</td>\n",
       "    </tr>\n",
       "    <tr>\n",
       "      <th>1</th>\n",
       "      <td>2022-02-17</td>\n",
       "      <td>0</td>\n",
       "      <td>3</td>\n",
       "      <td>0</td>\n",
       "      <td>0</td>\n",
       "      <td>0</td>\n",
       "      <td>0</td>\n",
       "      <td>0</td>\n",
       "      <td>0</td>\n",
       "      <td>0</td>\n",
       "      <td>...</td>\n",
       "      <td>0</td>\n",
       "      <td>0</td>\n",
       "      <td>0</td>\n",
       "      <td>0</td>\n",
       "      <td>0</td>\n",
       "      <td>0</td>\n",
       "      <td>0</td>\n",
       "      <td>0</td>\n",
       "      <td>0</td>\n",
       "      <td>0</td>\n",
       "    </tr>\n",
       "    <tr>\n",
       "      <th>2</th>\n",
       "      <td>2022-02-28</td>\n",
       "      <td>1</td>\n",
       "      <td>0</td>\n",
       "      <td>0</td>\n",
       "      <td>0</td>\n",
       "      <td>0</td>\n",
       "      <td>0</td>\n",
       "      <td>0</td>\n",
       "      <td>0</td>\n",
       "      <td>0</td>\n",
       "      <td>...</td>\n",
       "      <td>0</td>\n",
       "      <td>0</td>\n",
       "      <td>0</td>\n",
       "      <td>0</td>\n",
       "      <td>0</td>\n",
       "      <td>0</td>\n",
       "      <td>0</td>\n",
       "      <td>0</td>\n",
       "      <td>0</td>\n",
       "      <td>0</td>\n",
       "    </tr>\n",
       "    <tr>\n",
       "      <th>3</th>\n",
       "      <td>2022-03-04</td>\n",
       "      <td>0</td>\n",
       "      <td>0</td>\n",
       "      <td>2</td>\n",
       "      <td>0</td>\n",
       "      <td>0</td>\n",
       "      <td>0</td>\n",
       "      <td>0</td>\n",
       "      <td>0</td>\n",
       "      <td>0</td>\n",
       "      <td>...</td>\n",
       "      <td>0</td>\n",
       "      <td>0</td>\n",
       "      <td>0</td>\n",
       "      <td>0</td>\n",
       "      <td>0</td>\n",
       "      <td>0</td>\n",
       "      <td>0</td>\n",
       "      <td>0</td>\n",
       "      <td>0</td>\n",
       "      <td>0</td>\n",
       "    </tr>\n",
       "    <tr>\n",
       "      <th>4</th>\n",
       "      <td>2022-03-31</td>\n",
       "      <td>6</td>\n",
       "      <td>0</td>\n",
       "      <td>0</td>\n",
       "      <td>0</td>\n",
       "      <td>0</td>\n",
       "      <td>0</td>\n",
       "      <td>0</td>\n",
       "      <td>0</td>\n",
       "      <td>0</td>\n",
       "      <td>...</td>\n",
       "      <td>0</td>\n",
       "      <td>0</td>\n",
       "      <td>0</td>\n",
       "      <td>0</td>\n",
       "      <td>0</td>\n",
       "      <td>0</td>\n",
       "      <td>0</td>\n",
       "      <td>0</td>\n",
       "      <td>0</td>\n",
       "      <td>0</td>\n",
       "    </tr>\n",
       "    <tr>\n",
       "      <th>...</th>\n",
       "      <td>...</td>\n",
       "      <td>...</td>\n",
       "      <td>...</td>\n",
       "      <td>...</td>\n",
       "      <td>...</td>\n",
       "      <td>...</td>\n",
       "      <td>...</td>\n",
       "      <td>...</td>\n",
       "      <td>...</td>\n",
       "      <td>...</td>\n",
       "      <td>...</td>\n",
       "      <td>...</td>\n",
       "      <td>...</td>\n",
       "      <td>...</td>\n",
       "      <td>...</td>\n",
       "      <td>...</td>\n",
       "      <td>...</td>\n",
       "      <td>...</td>\n",
       "      <td>...</td>\n",
       "      <td>...</td>\n",
       "      <td>...</td>\n",
       "    </tr>\n",
       "    <tr>\n",
       "      <th>136</th>\n",
       "      <td>2022-09-18</td>\n",
       "      <td>0</td>\n",
       "      <td>0</td>\n",
       "      <td>0</td>\n",
       "      <td>0</td>\n",
       "      <td>0</td>\n",
       "      <td>0</td>\n",
       "      <td>0</td>\n",
       "      <td>0</td>\n",
       "      <td>0</td>\n",
       "      <td>...</td>\n",
       "      <td>0</td>\n",
       "      <td>0</td>\n",
       "      <td>0</td>\n",
       "      <td>0</td>\n",
       "      <td>0</td>\n",
       "      <td>0</td>\n",
       "      <td>0</td>\n",
       "      <td>0</td>\n",
       "      <td>0</td>\n",
       "      <td>0</td>\n",
       "    </tr>\n",
       "    <tr>\n",
       "      <th>137</th>\n",
       "      <td>2022-09-19</td>\n",
       "      <td>0</td>\n",
       "      <td>0</td>\n",
       "      <td>0</td>\n",
       "      <td>0</td>\n",
       "      <td>0</td>\n",
       "      <td>0</td>\n",
       "      <td>0</td>\n",
       "      <td>0</td>\n",
       "      <td>391</td>\n",
       "      <td>...</td>\n",
       "      <td>0</td>\n",
       "      <td>0</td>\n",
       "      <td>0</td>\n",
       "      <td>0</td>\n",
       "      <td>0</td>\n",
       "      <td>0</td>\n",
       "      <td>0</td>\n",
       "      <td>1</td>\n",
       "      <td>0</td>\n",
       "      <td>0</td>\n",
       "    </tr>\n",
       "    <tr>\n",
       "      <th>138</th>\n",
       "      <td>2022-09-20</td>\n",
       "      <td>0</td>\n",
       "      <td>0</td>\n",
       "      <td>0</td>\n",
       "      <td>0</td>\n",
       "      <td>29</td>\n",
       "      <td>0</td>\n",
       "      <td>0</td>\n",
       "      <td>46</td>\n",
       "      <td>311</td>\n",
       "      <td>...</td>\n",
       "      <td>0</td>\n",
       "      <td>0</td>\n",
       "      <td>0</td>\n",
       "      <td>0</td>\n",
       "      <td>0</td>\n",
       "      <td>0</td>\n",
       "      <td>0</td>\n",
       "      <td>0</td>\n",
       "      <td>0</td>\n",
       "      <td>0</td>\n",
       "    </tr>\n",
       "    <tr>\n",
       "      <th>139</th>\n",
       "      <td>2022-09-21</td>\n",
       "      <td>0</td>\n",
       "      <td>0</td>\n",
       "      <td>0</td>\n",
       "      <td>0</td>\n",
       "      <td>0</td>\n",
       "      <td>0</td>\n",
       "      <td>0</td>\n",
       "      <td>0</td>\n",
       "      <td>157</td>\n",
       "      <td>...</td>\n",
       "      <td>0</td>\n",
       "      <td>0</td>\n",
       "      <td>0</td>\n",
       "      <td>0</td>\n",
       "      <td>0</td>\n",
       "      <td>0</td>\n",
       "      <td>0</td>\n",
       "      <td>0</td>\n",
       "      <td>0</td>\n",
       "      <td>0</td>\n",
       "    </tr>\n",
       "    <tr>\n",
       "      <th>140</th>\n",
       "      <td>2022-09-22</td>\n",
       "      <td>0</td>\n",
       "      <td>0</td>\n",
       "      <td>0</td>\n",
       "      <td>0</td>\n",
       "      <td>0</td>\n",
       "      <td>0</td>\n",
       "      <td>0</td>\n",
       "      <td>0</td>\n",
       "      <td>205</td>\n",
       "      <td>...</td>\n",
       "      <td>0</td>\n",
       "      <td>0</td>\n",
       "      <td>0</td>\n",
       "      <td>0</td>\n",
       "      <td>0</td>\n",
       "      <td>0</td>\n",
       "      <td>0</td>\n",
       "      <td>0</td>\n",
       "      <td>0</td>\n",
       "      <td>0</td>\n",
       "    </tr>\n",
       "  </tbody>\n",
       "</table>\n",
       "<p>141 rows × 113 columns</p>\n",
       "</div>"
      ],
      "text/plain": [
       "        Country  Nigeria  Cameroon  Central African Republic  \\\n",
       "0    2022-01-31        3         0                         0   \n",
       "1    2022-02-17        0         3                         0   \n",
       "2    2022-02-28        1         0                         0   \n",
       "3    2022-03-04        0         0                         2   \n",
       "4    2022-03-31        6         0                         0   \n",
       "..          ...      ...       ...                       ...   \n",
       "136  2022-09-18        0         0                         0   \n",
       "137  2022-09-19        0         0                         0   \n",
       "138  2022-09-20        0         0                         0   \n",
       "139  2022-09-21        0         0                         0   \n",
       "140  2022-09-22        0         0                         0   \n",
       "\n",
       "     Republic of Congo  England  Democratic Republic Of The Congo  Portugal  \\\n",
       "0                    0        0                                 0         0   \n",
       "1                    0        0                                 0         0   \n",
       "2                    0        0                                 0         0   \n",
       "3                    0        0                                 0         0   \n",
       "4                    0        0                                 0         0   \n",
       "..                 ...      ...                               ...       ...   \n",
       "136                  0        0                                 0         0   \n",
       "137                  0        0                                 0         0   \n",
       "138                  0       29                                 0         0   \n",
       "139                  0        0                                 0         0   \n",
       "140                  0        0                                 0         0   \n",
       "\n",
       "     Spain  United States  ...  Paraguay  South Sudan  El Salvador  Hong Kong  \\\n",
       "0        0              0  ...         0            0            0          0   \n",
       "1        0              0  ...         0            0            0          0   \n",
       "2        0              0  ...         0            0            0          0   \n",
       "3        0              0  ...         0            0            0          0   \n",
       "4        0              0  ...         0            0            0          0   \n",
       "..     ...            ...  ...       ...          ...          ...        ...   \n",
       "136      0              0  ...         0            0            0          0   \n",
       "137      0            391  ...         0            0            0          0   \n",
       "138     46            311  ...         0            0            0          0   \n",
       "139      0            157  ...         0            0            0          0   \n",
       "140      0            205  ...         0            0            0          0   \n",
       "\n",
       "     Egypt  Jordan  Guam  Ukraine  Bahrain  China  \n",
       "0        0       0     0        0        0      0  \n",
       "1        0       0     0        0        0      0  \n",
       "2        0       0     0        0        0      0  \n",
       "3        0       0     0        0        0      0  \n",
       "4        0       0     0        0        0      0  \n",
       "..     ...     ...   ...      ...      ...    ...  \n",
       "136      0       0     0        0        0      0  \n",
       "137      0       0     0        1        0      0  \n",
       "138      0       0     0        0        0      0  \n",
       "139      0       0     0        0        0      0  \n",
       "140      0       0     0        0        0      0  \n",
       "\n",
       "[141 rows x 113 columns]"
      ]
     },
     "execution_count": 8,
     "metadata": {},
     "output_type": "execute_result"
    }
   ],
   "source": [
    "# Show dataframe\n",
    "df"
   ]
  },
  {
   "cell_type": "code",
   "execution_count": 9,
   "id": "fa4f0be0",
   "metadata": {
    "execution": {
     "iopub.execute_input": "2023-11-17T06:45:05.705895Z",
     "iopub.status.busy": "2023-11-17T06:45:05.705482Z",
     "iopub.status.idle": "2023-11-17T06:45:05.717228Z",
     "shell.execute_reply": "2023-11-17T06:45:05.714889Z"
    },
    "papermill": {
     "duration": 0.026756,
     "end_time": "2023-11-17T06:45:05.719805",
     "exception": false,
     "start_time": "2023-11-17T06:45:05.693049",
     "status": "completed"
    },
    "tags": []
   },
   "outputs": [],
   "source": [
    "# Rename column name country to Date\n",
    "df.rename(columns={'Country': 'Date'}, inplace=True)"
   ]
  },
  {
   "cell_type": "code",
   "execution_count": 10,
   "id": "96b2ed99",
   "metadata": {
    "execution": {
     "iopub.execute_input": "2023-11-17T06:45:05.741567Z",
     "iopub.status.busy": "2023-11-17T06:45:05.740724Z",
     "iopub.status.idle": "2023-11-17T06:45:05.749290Z",
     "shell.execute_reply": "2023-11-17T06:45:05.748004Z"
    },
    "papermill": {
     "duration": 0.021985,
     "end_time": "2023-11-17T06:45:05.751642",
     "exception": false,
     "start_time": "2023-11-17T06:45:05.729657",
     "status": "completed"
    },
    "tags": []
   },
   "outputs": [
    {
     "data": {
      "text/plain": [
       "(141, 113)"
      ]
     },
     "execution_count": 10,
     "metadata": {},
     "output_type": "execute_result"
    }
   ],
   "source": [
    "# Checking the shape of the DataFrame\n",
    "df.shape"
   ]
  },
  {
   "cell_type": "code",
   "execution_count": 11,
   "id": "aa721155",
   "metadata": {
    "execution": {
     "iopub.execute_input": "2023-11-17T06:45:05.773749Z",
     "iopub.status.busy": "2023-11-17T06:45:05.773112Z",
     "iopub.status.idle": "2023-11-17T06:45:05.803945Z",
     "shell.execute_reply": "2023-11-17T06:45:05.802345Z"
    },
    "papermill": {
     "duration": 0.045036,
     "end_time": "2023-11-17T06:45:05.806705",
     "exception": false,
     "start_time": "2023-11-17T06:45:05.761669",
     "status": "completed"
    },
    "tags": []
   },
   "outputs": [
    {
     "name": "stdout",
     "output_type": "stream",
     "text": [
      "<class 'pandas.core.frame.DataFrame'>\n",
      "RangeIndex: 141 entries, 0 to 140\n",
      "Columns: 113 entries, Date to China\n",
      "dtypes: int64(112), object(1)\n",
      "memory usage: 124.6+ KB\n"
     ]
    }
   ],
   "source": [
    "# Information about the DataFrame\n",
    "df.info()"
   ]
  },
  {
   "cell_type": "code",
   "execution_count": 12,
   "id": "8578a43c",
   "metadata": {
    "execution": {
     "iopub.execute_input": "2023-11-17T06:45:05.828546Z",
     "iopub.status.busy": "2023-11-17T06:45:05.828139Z",
     "iopub.status.idle": "2023-11-17T06:45:06.085295Z",
     "shell.execute_reply": "2023-11-17T06:45:06.084050Z"
    },
    "papermill": {
     "duration": 0.271753,
     "end_time": "2023-11-17T06:45:06.088515",
     "exception": false,
     "start_time": "2023-11-17T06:45:05.816762",
     "status": "completed"
    },
    "tags": []
   },
   "outputs": [
    {
     "data": {
      "text/html": [
       "<div>\n",
       "<style scoped>\n",
       "    .dataframe tbody tr th:only-of-type {\n",
       "        vertical-align: middle;\n",
       "    }\n",
       "\n",
       "    .dataframe tbody tr th {\n",
       "        vertical-align: top;\n",
       "    }\n",
       "\n",
       "    .dataframe thead th {\n",
       "        text-align: right;\n",
       "    }\n",
       "</style>\n",
       "<table border=\"1\" class=\"dataframe\">\n",
       "  <thead>\n",
       "    <tr style=\"text-align: right;\">\n",
       "      <th></th>\n",
       "      <th>Nigeria</th>\n",
       "      <th>Cameroon</th>\n",
       "      <th>Central African Republic</th>\n",
       "      <th>Republic of Congo</th>\n",
       "      <th>England</th>\n",
       "      <th>Democratic Republic Of The Congo</th>\n",
       "      <th>Portugal</th>\n",
       "      <th>Spain</th>\n",
       "      <th>United States</th>\n",
       "      <th>Belgium</th>\n",
       "      <th>...</th>\n",
       "      <th>Paraguay</th>\n",
       "      <th>South Sudan</th>\n",
       "      <th>El Salvador</th>\n",
       "      <th>Hong Kong</th>\n",
       "      <th>Egypt</th>\n",
       "      <th>Jordan</th>\n",
       "      <th>Guam</th>\n",
       "      <th>Ukraine</th>\n",
       "      <th>Bahrain</th>\n",
       "      <th>China</th>\n",
       "    </tr>\n",
       "  </thead>\n",
       "  <tbody>\n",
       "    <tr>\n",
       "      <th>count</th>\n",
       "      <td>141.000000</td>\n",
       "      <td>141.000000</td>\n",
       "      <td>141.000000</td>\n",
       "      <td>141.000000</td>\n",
       "      <td>141.000000</td>\n",
       "      <td>141.000000</td>\n",
       "      <td>141.000000</td>\n",
       "      <td>141.000000</td>\n",
       "      <td>141.000000</td>\n",
       "      <td>141.000000</td>\n",
       "      <td>...</td>\n",
       "      <td>141.000000</td>\n",
       "      <td>141.000000</td>\n",
       "      <td>141.000000</td>\n",
       "      <td>141.000000</td>\n",
       "      <td>141.000000</td>\n",
       "      <td>141.000000</td>\n",
       "      <td>141.000000</td>\n",
       "      <td>141.000000</td>\n",
       "      <td>141.000000</td>\n",
       "      <td>141.000000</td>\n",
       "    </tr>\n",
       "    <tr>\n",
       "      <th>mean</th>\n",
       "      <td>1.964539</td>\n",
       "      <td>0.049645</td>\n",
       "      <td>0.056738</td>\n",
       "      <td>0.021277</td>\n",
       "      <td>24.198582</td>\n",
       "      <td>1.382979</td>\n",
       "      <td>6.439716</td>\n",
       "      <td>50.234043</td>\n",
       "      <td>173.070922</td>\n",
       "      <td>5.368794</td>\n",
       "      <td>...</td>\n",
       "      <td>0.007092</td>\n",
       "      <td>0.014184</td>\n",
       "      <td>0.028369</td>\n",
       "      <td>0.007092</td>\n",
       "      <td>0.007092</td>\n",
       "      <td>0.007092</td>\n",
       "      <td>0.007092</td>\n",
       "      <td>0.014184</td>\n",
       "      <td>0.007092</td>\n",
       "      <td>0.007092</td>\n",
       "    </tr>\n",
       "    <tr>\n",
       "      <th>std</th>\n",
       "      <td>6.605638</td>\n",
       "      <td>0.365010</td>\n",
       "      <td>0.410105</td>\n",
       "      <td>0.187772</td>\n",
       "      <td>56.007936</td>\n",
       "      <td>9.783119</td>\n",
       "      <td>13.717230</td>\n",
       "      <td>130.736739</td>\n",
       "      <td>273.811840</td>\n",
       "      <td>17.147433</td>\n",
       "      <td>...</td>\n",
       "      <td>0.084215</td>\n",
       "      <td>0.168430</td>\n",
       "      <td>0.205053</td>\n",
       "      <td>0.084215</td>\n",
       "      <td>0.084215</td>\n",
       "      <td>0.084215</td>\n",
       "      <td>0.084215</td>\n",
       "      <td>0.118672</td>\n",
       "      <td>0.084215</td>\n",
       "      <td>0.084215</td>\n",
       "    </tr>\n",
       "    <tr>\n",
       "      <th>min</th>\n",
       "      <td>0.000000</td>\n",
       "      <td>0.000000</td>\n",
       "      <td>0.000000</td>\n",
       "      <td>0.000000</td>\n",
       "      <td>0.000000</td>\n",
       "      <td>0.000000</td>\n",
       "      <td>0.000000</td>\n",
       "      <td>0.000000</td>\n",
       "      <td>0.000000</td>\n",
       "      <td>0.000000</td>\n",
       "      <td>...</td>\n",
       "      <td>0.000000</td>\n",
       "      <td>0.000000</td>\n",
       "      <td>0.000000</td>\n",
       "      <td>0.000000</td>\n",
       "      <td>0.000000</td>\n",
       "      <td>0.000000</td>\n",
       "      <td>0.000000</td>\n",
       "      <td>0.000000</td>\n",
       "      <td>0.000000</td>\n",
       "      <td>0.000000</td>\n",
       "    </tr>\n",
       "    <tr>\n",
       "      <th>25%</th>\n",
       "      <td>0.000000</td>\n",
       "      <td>0.000000</td>\n",
       "      <td>0.000000</td>\n",
       "      <td>0.000000</td>\n",
       "      <td>0.000000</td>\n",
       "      <td>0.000000</td>\n",
       "      <td>0.000000</td>\n",
       "      <td>0.000000</td>\n",
       "      <td>0.000000</td>\n",
       "      <td>0.000000</td>\n",
       "      <td>...</td>\n",
       "      <td>0.000000</td>\n",
       "      <td>0.000000</td>\n",
       "      <td>0.000000</td>\n",
       "      <td>0.000000</td>\n",
       "      <td>0.000000</td>\n",
       "      <td>0.000000</td>\n",
       "      <td>0.000000</td>\n",
       "      <td>0.000000</td>\n",
       "      <td>0.000000</td>\n",
       "      <td>0.000000</td>\n",
       "    </tr>\n",
       "    <tr>\n",
       "      <th>50%</th>\n",
       "      <td>0.000000</td>\n",
       "      <td>0.000000</td>\n",
       "      <td>0.000000</td>\n",
       "      <td>0.000000</td>\n",
       "      <td>0.000000</td>\n",
       "      <td>0.000000</td>\n",
       "      <td>0.000000</td>\n",
       "      <td>0.000000</td>\n",
       "      <td>10.000000</td>\n",
       "      <td>0.000000</td>\n",
       "      <td>...</td>\n",
       "      <td>0.000000</td>\n",
       "      <td>0.000000</td>\n",
       "      <td>0.000000</td>\n",
       "      <td>0.000000</td>\n",
       "      <td>0.000000</td>\n",
       "      <td>0.000000</td>\n",
       "      <td>0.000000</td>\n",
       "      <td>0.000000</td>\n",
       "      <td>0.000000</td>\n",
       "      <td>0.000000</td>\n",
       "    </tr>\n",
       "    <tr>\n",
       "      <th>75%</th>\n",
       "      <td>0.000000</td>\n",
       "      <td>0.000000</td>\n",
       "      <td>0.000000</td>\n",
       "      <td>0.000000</td>\n",
       "      <td>7.000000</td>\n",
       "      <td>0.000000</td>\n",
       "      <td>9.000000</td>\n",
       "      <td>19.000000</td>\n",
       "      <td>311.000000</td>\n",
       "      <td>0.000000</td>\n",
       "      <td>...</td>\n",
       "      <td>0.000000</td>\n",
       "      <td>0.000000</td>\n",
       "      <td>0.000000</td>\n",
       "      <td>0.000000</td>\n",
       "      <td>0.000000</td>\n",
       "      <td>0.000000</td>\n",
       "      <td>0.000000</td>\n",
       "      <td>0.000000</td>\n",
       "      <td>0.000000</td>\n",
       "      <td>0.000000</td>\n",
       "    </tr>\n",
       "    <tr>\n",
       "      <th>max</th>\n",
       "      <td>48.000000</td>\n",
       "      <td>3.000000</td>\n",
       "      <td>4.000000</td>\n",
       "      <td>2.000000</td>\n",
       "      <td>275.000000</td>\n",
       "      <td>97.000000</td>\n",
       "      <td>77.000000</td>\n",
       "      <td>776.000000</td>\n",
       "      <td>1411.000000</td>\n",
       "      <td>89.000000</td>\n",
       "      <td>...</td>\n",
       "      <td>1.000000</td>\n",
       "      <td>2.000000</td>\n",
       "      <td>2.000000</td>\n",
       "      <td>1.000000</td>\n",
       "      <td>1.000000</td>\n",
       "      <td>1.000000</td>\n",
       "      <td>1.000000</td>\n",
       "      <td>1.000000</td>\n",
       "      <td>1.000000</td>\n",
       "      <td>1.000000</td>\n",
       "    </tr>\n",
       "  </tbody>\n",
       "</table>\n",
       "<p>8 rows × 112 columns</p>\n",
       "</div>"
      ],
      "text/plain": [
       "          Nigeria    Cameroon  Central African Republic  Republic of Congo  \\\n",
       "count  141.000000  141.000000                141.000000         141.000000   \n",
       "mean     1.964539    0.049645                  0.056738           0.021277   \n",
       "std      6.605638    0.365010                  0.410105           0.187772   \n",
       "min      0.000000    0.000000                  0.000000           0.000000   \n",
       "25%      0.000000    0.000000                  0.000000           0.000000   \n",
       "50%      0.000000    0.000000                  0.000000           0.000000   \n",
       "75%      0.000000    0.000000                  0.000000           0.000000   \n",
       "max     48.000000    3.000000                  4.000000           2.000000   \n",
       "\n",
       "          England  Democratic Republic Of The Congo    Portugal       Spain  \\\n",
       "count  141.000000                        141.000000  141.000000  141.000000   \n",
       "mean    24.198582                          1.382979    6.439716   50.234043   \n",
       "std     56.007936                          9.783119   13.717230  130.736739   \n",
       "min      0.000000                          0.000000    0.000000    0.000000   \n",
       "25%      0.000000                          0.000000    0.000000    0.000000   \n",
       "50%      0.000000                          0.000000    0.000000    0.000000   \n",
       "75%      7.000000                          0.000000    9.000000   19.000000   \n",
       "max    275.000000                         97.000000   77.000000  776.000000   \n",
       "\n",
       "       United States     Belgium  ...    Paraguay  South Sudan  El Salvador  \\\n",
       "count     141.000000  141.000000  ...  141.000000   141.000000   141.000000   \n",
       "mean      173.070922    5.368794  ...    0.007092     0.014184     0.028369   \n",
       "std       273.811840   17.147433  ...    0.084215     0.168430     0.205053   \n",
       "min         0.000000    0.000000  ...    0.000000     0.000000     0.000000   \n",
       "25%         0.000000    0.000000  ...    0.000000     0.000000     0.000000   \n",
       "50%        10.000000    0.000000  ...    0.000000     0.000000     0.000000   \n",
       "75%       311.000000    0.000000  ...    0.000000     0.000000     0.000000   \n",
       "max      1411.000000   89.000000  ...    1.000000     2.000000     2.000000   \n",
       "\n",
       "        Hong Kong       Egypt      Jordan        Guam     Ukraine     Bahrain  \\\n",
       "count  141.000000  141.000000  141.000000  141.000000  141.000000  141.000000   \n",
       "mean     0.007092    0.007092    0.007092    0.007092    0.014184    0.007092   \n",
       "std      0.084215    0.084215    0.084215    0.084215    0.118672    0.084215   \n",
       "min      0.000000    0.000000    0.000000    0.000000    0.000000    0.000000   \n",
       "25%      0.000000    0.000000    0.000000    0.000000    0.000000    0.000000   \n",
       "50%      0.000000    0.000000    0.000000    0.000000    0.000000    0.000000   \n",
       "75%      0.000000    0.000000    0.000000    0.000000    0.000000    0.000000   \n",
       "max      1.000000    1.000000    1.000000    1.000000    1.000000    1.000000   \n",
       "\n",
       "            China  \n",
       "count  141.000000  \n",
       "mean     0.007092  \n",
       "std      0.084215  \n",
       "min      0.000000  \n",
       "25%      0.000000  \n",
       "50%      0.000000  \n",
       "75%      0.000000  \n",
       "max      1.000000  \n",
       "\n",
       "[8 rows x 112 columns]"
      ]
     },
     "execution_count": 12,
     "metadata": {},
     "output_type": "execute_result"
    }
   ],
   "source": [
    "# Showing basic stats \n",
    "df.describe()"
   ]
  },
  {
   "cell_type": "code",
   "execution_count": 13,
   "id": "7db8c2fd",
   "metadata": {
    "execution": {
     "iopub.execute_input": "2023-11-17T06:45:06.111928Z",
     "iopub.status.busy": "2023-11-17T06:45:06.111504Z",
     "iopub.status.idle": "2023-11-17T06:45:06.142981Z",
     "shell.execute_reply": "2023-11-17T06:45:06.142061Z"
    },
    "papermill": {
     "duration": 0.046306,
     "end_time": "2023-11-17T06:45:06.145473",
     "exception": false,
     "start_time": "2023-11-17T06:45:06.099167",
     "status": "completed"
    },
    "tags": []
   },
   "outputs": [
    {
     "data": {
      "text/html": [
       "<div>\n",
       "<style scoped>\n",
       "    .dataframe tbody tr th:only-of-type {\n",
       "        vertical-align: middle;\n",
       "    }\n",
       "\n",
       "    .dataframe tbody tr th {\n",
       "        vertical-align: top;\n",
       "    }\n",
       "\n",
       "    .dataframe thead th {\n",
       "        text-align: right;\n",
       "    }\n",
       "</style>\n",
       "<table border=\"1\" class=\"dataframe\">\n",
       "  <thead>\n",
       "    <tr style=\"text-align: right;\">\n",
       "      <th></th>\n",
       "      <th>Date</th>\n",
       "      <th>Nigeria</th>\n",
       "      <th>Cameroon</th>\n",
       "      <th>Central African Republic</th>\n",
       "      <th>Republic of Congo</th>\n",
       "      <th>England</th>\n",
       "      <th>Democratic Republic Of The Congo</th>\n",
       "      <th>Portugal</th>\n",
       "      <th>Spain</th>\n",
       "      <th>United States</th>\n",
       "      <th>...</th>\n",
       "      <th>Paraguay</th>\n",
       "      <th>South Sudan</th>\n",
       "      <th>El Salvador</th>\n",
       "      <th>Hong Kong</th>\n",
       "      <th>Egypt</th>\n",
       "      <th>Jordan</th>\n",
       "      <th>Guam</th>\n",
       "      <th>Ukraine</th>\n",
       "      <th>Bahrain</th>\n",
       "      <th>China</th>\n",
       "    </tr>\n",
       "  </thead>\n",
       "  <tbody>\n",
       "    <tr>\n",
       "      <th>0</th>\n",
       "      <td>False</td>\n",
       "      <td>False</td>\n",
       "      <td>False</td>\n",
       "      <td>False</td>\n",
       "      <td>False</td>\n",
       "      <td>False</td>\n",
       "      <td>False</td>\n",
       "      <td>False</td>\n",
       "      <td>False</td>\n",
       "      <td>False</td>\n",
       "      <td>...</td>\n",
       "      <td>False</td>\n",
       "      <td>False</td>\n",
       "      <td>False</td>\n",
       "      <td>False</td>\n",
       "      <td>False</td>\n",
       "      <td>False</td>\n",
       "      <td>False</td>\n",
       "      <td>False</td>\n",
       "      <td>False</td>\n",
       "      <td>False</td>\n",
       "    </tr>\n",
       "    <tr>\n",
       "      <th>1</th>\n",
       "      <td>False</td>\n",
       "      <td>False</td>\n",
       "      <td>False</td>\n",
       "      <td>False</td>\n",
       "      <td>False</td>\n",
       "      <td>False</td>\n",
       "      <td>False</td>\n",
       "      <td>False</td>\n",
       "      <td>False</td>\n",
       "      <td>False</td>\n",
       "      <td>...</td>\n",
       "      <td>False</td>\n",
       "      <td>False</td>\n",
       "      <td>False</td>\n",
       "      <td>False</td>\n",
       "      <td>False</td>\n",
       "      <td>False</td>\n",
       "      <td>False</td>\n",
       "      <td>False</td>\n",
       "      <td>False</td>\n",
       "      <td>False</td>\n",
       "    </tr>\n",
       "    <tr>\n",
       "      <th>2</th>\n",
       "      <td>False</td>\n",
       "      <td>False</td>\n",
       "      <td>False</td>\n",
       "      <td>False</td>\n",
       "      <td>False</td>\n",
       "      <td>False</td>\n",
       "      <td>False</td>\n",
       "      <td>False</td>\n",
       "      <td>False</td>\n",
       "      <td>False</td>\n",
       "      <td>...</td>\n",
       "      <td>False</td>\n",
       "      <td>False</td>\n",
       "      <td>False</td>\n",
       "      <td>False</td>\n",
       "      <td>False</td>\n",
       "      <td>False</td>\n",
       "      <td>False</td>\n",
       "      <td>False</td>\n",
       "      <td>False</td>\n",
       "      <td>False</td>\n",
       "    </tr>\n",
       "    <tr>\n",
       "      <th>3</th>\n",
       "      <td>False</td>\n",
       "      <td>False</td>\n",
       "      <td>False</td>\n",
       "      <td>False</td>\n",
       "      <td>False</td>\n",
       "      <td>False</td>\n",
       "      <td>False</td>\n",
       "      <td>False</td>\n",
       "      <td>False</td>\n",
       "      <td>False</td>\n",
       "      <td>...</td>\n",
       "      <td>False</td>\n",
       "      <td>False</td>\n",
       "      <td>False</td>\n",
       "      <td>False</td>\n",
       "      <td>False</td>\n",
       "      <td>False</td>\n",
       "      <td>False</td>\n",
       "      <td>False</td>\n",
       "      <td>False</td>\n",
       "      <td>False</td>\n",
       "    </tr>\n",
       "    <tr>\n",
       "      <th>4</th>\n",
       "      <td>False</td>\n",
       "      <td>False</td>\n",
       "      <td>False</td>\n",
       "      <td>False</td>\n",
       "      <td>False</td>\n",
       "      <td>False</td>\n",
       "      <td>False</td>\n",
       "      <td>False</td>\n",
       "      <td>False</td>\n",
       "      <td>False</td>\n",
       "      <td>...</td>\n",
       "      <td>False</td>\n",
       "      <td>False</td>\n",
       "      <td>False</td>\n",
       "      <td>False</td>\n",
       "      <td>False</td>\n",
       "      <td>False</td>\n",
       "      <td>False</td>\n",
       "      <td>False</td>\n",
       "      <td>False</td>\n",
       "      <td>False</td>\n",
       "    </tr>\n",
       "    <tr>\n",
       "      <th>...</th>\n",
       "      <td>...</td>\n",
       "      <td>...</td>\n",
       "      <td>...</td>\n",
       "      <td>...</td>\n",
       "      <td>...</td>\n",
       "      <td>...</td>\n",
       "      <td>...</td>\n",
       "      <td>...</td>\n",
       "      <td>...</td>\n",
       "      <td>...</td>\n",
       "      <td>...</td>\n",
       "      <td>...</td>\n",
       "      <td>...</td>\n",
       "      <td>...</td>\n",
       "      <td>...</td>\n",
       "      <td>...</td>\n",
       "      <td>...</td>\n",
       "      <td>...</td>\n",
       "      <td>...</td>\n",
       "      <td>...</td>\n",
       "      <td>...</td>\n",
       "    </tr>\n",
       "    <tr>\n",
       "      <th>136</th>\n",
       "      <td>False</td>\n",
       "      <td>False</td>\n",
       "      <td>False</td>\n",
       "      <td>False</td>\n",
       "      <td>False</td>\n",
       "      <td>False</td>\n",
       "      <td>False</td>\n",
       "      <td>False</td>\n",
       "      <td>False</td>\n",
       "      <td>False</td>\n",
       "      <td>...</td>\n",
       "      <td>False</td>\n",
       "      <td>False</td>\n",
       "      <td>False</td>\n",
       "      <td>False</td>\n",
       "      <td>False</td>\n",
       "      <td>False</td>\n",
       "      <td>False</td>\n",
       "      <td>False</td>\n",
       "      <td>False</td>\n",
       "      <td>False</td>\n",
       "    </tr>\n",
       "    <tr>\n",
       "      <th>137</th>\n",
       "      <td>False</td>\n",
       "      <td>False</td>\n",
       "      <td>False</td>\n",
       "      <td>False</td>\n",
       "      <td>False</td>\n",
       "      <td>False</td>\n",
       "      <td>False</td>\n",
       "      <td>False</td>\n",
       "      <td>False</td>\n",
       "      <td>False</td>\n",
       "      <td>...</td>\n",
       "      <td>False</td>\n",
       "      <td>False</td>\n",
       "      <td>False</td>\n",
       "      <td>False</td>\n",
       "      <td>False</td>\n",
       "      <td>False</td>\n",
       "      <td>False</td>\n",
       "      <td>False</td>\n",
       "      <td>False</td>\n",
       "      <td>False</td>\n",
       "    </tr>\n",
       "    <tr>\n",
       "      <th>138</th>\n",
       "      <td>False</td>\n",
       "      <td>False</td>\n",
       "      <td>False</td>\n",
       "      <td>False</td>\n",
       "      <td>False</td>\n",
       "      <td>False</td>\n",
       "      <td>False</td>\n",
       "      <td>False</td>\n",
       "      <td>False</td>\n",
       "      <td>False</td>\n",
       "      <td>...</td>\n",
       "      <td>False</td>\n",
       "      <td>False</td>\n",
       "      <td>False</td>\n",
       "      <td>False</td>\n",
       "      <td>False</td>\n",
       "      <td>False</td>\n",
       "      <td>False</td>\n",
       "      <td>False</td>\n",
       "      <td>False</td>\n",
       "      <td>False</td>\n",
       "    </tr>\n",
       "    <tr>\n",
       "      <th>139</th>\n",
       "      <td>False</td>\n",
       "      <td>False</td>\n",
       "      <td>False</td>\n",
       "      <td>False</td>\n",
       "      <td>False</td>\n",
       "      <td>False</td>\n",
       "      <td>False</td>\n",
       "      <td>False</td>\n",
       "      <td>False</td>\n",
       "      <td>False</td>\n",
       "      <td>...</td>\n",
       "      <td>False</td>\n",
       "      <td>False</td>\n",
       "      <td>False</td>\n",
       "      <td>False</td>\n",
       "      <td>False</td>\n",
       "      <td>False</td>\n",
       "      <td>False</td>\n",
       "      <td>False</td>\n",
       "      <td>False</td>\n",
       "      <td>False</td>\n",
       "    </tr>\n",
       "    <tr>\n",
       "      <th>140</th>\n",
       "      <td>False</td>\n",
       "      <td>False</td>\n",
       "      <td>False</td>\n",
       "      <td>False</td>\n",
       "      <td>False</td>\n",
       "      <td>False</td>\n",
       "      <td>False</td>\n",
       "      <td>False</td>\n",
       "      <td>False</td>\n",
       "      <td>False</td>\n",
       "      <td>...</td>\n",
       "      <td>False</td>\n",
       "      <td>False</td>\n",
       "      <td>False</td>\n",
       "      <td>False</td>\n",
       "      <td>False</td>\n",
       "      <td>False</td>\n",
       "      <td>False</td>\n",
       "      <td>False</td>\n",
       "      <td>False</td>\n",
       "      <td>False</td>\n",
       "    </tr>\n",
       "  </tbody>\n",
       "</table>\n",
       "<p>141 rows × 113 columns</p>\n",
       "</div>"
      ],
      "text/plain": [
       "      Date  Nigeria  Cameroon  Central African Republic  Republic of Congo  \\\n",
       "0    False    False     False                     False              False   \n",
       "1    False    False     False                     False              False   \n",
       "2    False    False     False                     False              False   \n",
       "3    False    False     False                     False              False   \n",
       "4    False    False     False                     False              False   \n",
       "..     ...      ...       ...                       ...                ...   \n",
       "136  False    False     False                     False              False   \n",
       "137  False    False     False                     False              False   \n",
       "138  False    False     False                     False              False   \n",
       "139  False    False     False                     False              False   \n",
       "140  False    False     False                     False              False   \n",
       "\n",
       "     England  Democratic Republic Of The Congo  Portugal  Spain  \\\n",
       "0      False                             False     False  False   \n",
       "1      False                             False     False  False   \n",
       "2      False                             False     False  False   \n",
       "3      False                             False     False  False   \n",
       "4      False                             False     False  False   \n",
       "..       ...                               ...       ...    ...   \n",
       "136    False                             False     False  False   \n",
       "137    False                             False     False  False   \n",
       "138    False                             False     False  False   \n",
       "139    False                             False     False  False   \n",
       "140    False                             False     False  False   \n",
       "\n",
       "     United States  ...  Paraguay  South Sudan  El Salvador  Hong Kong  Egypt  \\\n",
       "0            False  ...     False        False        False      False  False   \n",
       "1            False  ...     False        False        False      False  False   \n",
       "2            False  ...     False        False        False      False  False   \n",
       "3            False  ...     False        False        False      False  False   \n",
       "4            False  ...     False        False        False      False  False   \n",
       "..             ...  ...       ...          ...          ...        ...    ...   \n",
       "136          False  ...     False        False        False      False  False   \n",
       "137          False  ...     False        False        False      False  False   \n",
       "138          False  ...     False        False        False      False  False   \n",
       "139          False  ...     False        False        False      False  False   \n",
       "140          False  ...     False        False        False      False  False   \n",
       "\n",
       "     Jordan   Guam  Ukraine  Bahrain  China  \n",
       "0     False  False    False    False  False  \n",
       "1     False  False    False    False  False  \n",
       "2     False  False    False    False  False  \n",
       "3     False  False    False    False  False  \n",
       "4     False  False    False    False  False  \n",
       "..      ...    ...      ...      ...    ...  \n",
       "136   False  False    False    False  False  \n",
       "137   False  False    False    False  False  \n",
       "138   False  False    False    False  False  \n",
       "139   False  False    False    False  False  \n",
       "140   False  False    False    False  False  \n",
       "\n",
       "[141 rows x 113 columns]"
      ]
     },
     "execution_count": 13,
     "metadata": {},
     "output_type": "execute_result"
    }
   ],
   "source": [
    "# Checking for null values\n",
    "df.isnull()"
   ]
  },
  {
   "cell_type": "code",
   "execution_count": 14,
   "id": "e9c545c5",
   "metadata": {
    "execution": {
     "iopub.execute_input": "2023-11-17T06:45:06.169750Z",
     "iopub.status.busy": "2023-11-17T06:45:06.169065Z",
     "iopub.status.idle": "2023-11-17T06:45:06.176304Z",
     "shell.execute_reply": "2023-11-17T06:45:06.175116Z"
    },
    "papermill": {
     "duration": 0.022122,
     "end_time": "2023-11-17T06:45:06.178732",
     "exception": false,
     "start_time": "2023-11-17T06:45:06.156610",
     "status": "completed"
    },
    "tags": []
   },
   "outputs": [
    {
     "data": {
      "text/plain": [
       "Index(['Date', 'Nigeria', 'Cameroon', 'Central African Republic',\n",
       "       'Republic of Congo', 'England', 'Democratic Republic Of The Congo',\n",
       "       'Portugal', 'Spain', 'United States',\n",
       "       ...\n",
       "       'Paraguay', 'South Sudan', 'El Salvador', 'Hong Kong', 'Egypt',\n",
       "       'Jordan', 'Guam', 'Ukraine', 'Bahrain', 'China'],\n",
       "      dtype='object', length=113)"
      ]
     },
     "execution_count": 14,
     "metadata": {},
     "output_type": "execute_result"
    }
   ],
   "source": [
    "# Showing columns\n",
    "df.columns"
   ]
  },
  {
   "cell_type": "code",
   "execution_count": 15,
   "id": "cc1b2a1a",
   "metadata": {
    "execution": {
     "iopub.execute_input": "2023-11-17T06:45:06.203810Z",
     "iopub.status.busy": "2023-11-17T06:45:06.203383Z",
     "iopub.status.idle": "2023-11-17T06:45:06.301235Z",
     "shell.execute_reply": "2023-11-17T06:45:06.300039Z"
    },
    "papermill": {
     "duration": 0.113896,
     "end_time": "2023-11-17T06:45:06.304674",
     "exception": false,
     "start_time": "2023-11-17T06:45:06.190778",
     "status": "completed"
    },
    "tags": []
   },
   "outputs": [
    {
     "data": {
      "text/plain": [
       "Date        Nigeria  Cameroon  Central African Republic  Republic of Congo  England  Democratic Republic Of The Congo  Portugal  Spain  United States  Belgium  Germany  France  Canada  Sweden  Italy  Netherlands  Australia  Switzerland  Israel  Denmark  Austria  Scotland  United Arab Emirates  Czech Republic  Slovenia  Northern Ireland  Wales  Ireland  Argentina  Finland  Malta  Mexico  Norway  Hungary  Gibraltar  Morocco  Latvia  Ghana  Brazil  Greece  Poland  Venezuela  Romania  Benin  Iceland  Georgia  Luxembourg  Chile  Serbia  Singapore  Lebanon  South Africa  South Korea  Croatia  Colombia  Bulgaria  Bahamas  Taiwan  Peru  Estonia  Puerto Rico  Turkey  Panama  Dominican Republic  Ecuador  Jamaica  Slovakia  New Zealand  Russia  New Caledonia  Bosnia And Herzegovina  Saudi Arabia  India  Martinique  Barbados  Qatar  Costa Rica  Bermuda  Thailand  Monaco  Liberia  Andorra  Guadeloupe  Japan  Philippines  Uruguay  Sudan  Saint Martin (French part)  Bolivia  Montenegro  Cyprus  Lithuania  Guatemala  Moldova  Greenland  Honduras  Curaçao  Iran  Indonesia  Cuba  Aruba  Guyana  Paraguay  South Sudan  El Salvador  Hong Kong  Egypt  Jordan  Guam  Ukraine  Bahrain  China\n",
       "2022-01-31  3        0         0                         0                  0        0                                 0         0      0              0        0        0       0       0       0      0            0          0            0       0        0        0         0                     0               0         0                 0      0        0          0        0      0       0       0        0          0        0       0      0       0       0       0          0        0      0        0        0           0      0       0          0        0             0            0        0         0         0        0       0     0        0            0       0       0                   0        0        0         0            0       0              0                       0             0      0           0         0      0           0        0         0       0        0        0           0      0            0        0      0                           0        0           0       0          0          0        0          0         0        0     0          0     0      0       0         0            0            0          0      0       0     0        0        0        1\n",
       "2022-08-10  0        0         0                         0                  0        0                                 60        0      900            0        43       0       3       0       0      0            0          14           5       0        0        0         0                     0               0         0                 0      0        12         0        0      0       0       0        0          0        0       12     43      0       0       0          0        0      0        0        7           0      0       0          0        0             0            0        0         0         0        0       49    0        0            0       0       1                   0        1        0         0            0       0              0                       0             0      0           0         0      0           0        0         0       0        0        0           1      0            0        0      0                           1        0           0       0          1          0        0          0         0        0     0          0     0      0       0         0            0            0          0      0       0     0        0        0        1\n",
       "2022-08-04  0        0         0                         0                  92       0                                 0         0      485            0        58       184     64      9       0      30           4          8            3       9        0        2         0                     0               0         1                 5      0        0          2        0      0       2       0        0          0        0       0      139     0       0       0          0        0      0        0        0           23     0       0          0        0             0            0        0         0         0        0       0     0        0            0       0       0                   1        0        0         0            0       0              0                       0             0      0           0         0      0           0        0         0       0        0        0           0      0            0        0      0                           0        0           0       2          1          0        0          0         0        0     0          0     0      0       0         0            0            0          0      0       0     0        0        0        1\n",
       "2022-08-05  0        0         0                         0                  0        0                                 0         365    406            0        48       0       1       0       40     0            0          4            0       0        25       0         0                     2               1         0                 0      0        0          0        0      0       2       0        0          0        0       0      144     6       13      0          0        0      0        0        1           0      13      2          0        0             0            0        6         0         0        0       69    0        13           0       0       0                   0        1        2         0            0       0              0                       0             0      0           0         0      0           0        2         0       0        0        0           1      0            0        0      0                           0        0           0       0          0          0        0          0         0        0     0          0     0      0       0         0            0            0          0      0       0     0        0        0        1\n",
       "2022-08-06  0        0         0                         0                  0        0                                 0         0      1              0        0        0       0       0       0      0            0          0            0       0        0        0         0                     0               0         0                 0      4        0          0        0      0       0       0        0          0        0       0      104     0       0       0          0        0      0        0        0           0      0       0          0        0             0            0        0         0         0        1       0     0        0            0       0       0                   0        0        0         0            0       0              0                       0             0      0           0         0      0           0        0         0       0        0        0           0      0            0        0      0                           2        0           2       0          0          0        0          0         0        0     0          0     0      0       0         0            0            0          0      0       0     0        0        0        1\n",
       "                                                                                                                                                                                                                                                                                                                                                                                                                                                                                                                                                                                                                                                                                                                                                                                                                                                                                                                                                                                                                                                                                                                                                                                                                                    ..\n",
       "2022-06-15  0        0         0                         0                  0        0                                 10        0      13             27       45       0       0       4       10     0            2          8            1       0        1        0         0                     0               0         0                 0      5        0          0        1      0       0       2        0          0        0       0      0       1       11      0          2        0      3        1        0           0      0       0          0        0             0            0        0         0         0        0       0     0        0            0       0       0                   0        0        0         0            0       0              0                       0             0      0           0         0      0           0        0         0       0        0        0           0      0            0        0      0                           0        0           0       0          0          0        0          0         0        0     0          0     0      0       0         0            0            0          0      0       0     0        0        0        1\n",
       "2022-06-14  0        0         0                         0                  52       0                                 22        38     8              0        14       34      34      0       1      20           0          1            0       0        0        1         0                     0               0         0                 1      0        0          0        0      0       0       0        0          0        0       13     2       0       0       0          0        3      0        0        0           0      0       0          0        0             0            0        0         0         0        0       0     0        0            0       0       0                   0        0        0         0            0       0              0                       0             0      0           0         0      0           0        0         0       0        0        0           0      0            0        0      0                           0        0           0       0          0          0        0          0         0        0     0          0     0      0       0         0            0            0          0      0       0     0        0        0        1\n",
       "2022-06-13  0        0         0                         0                  0        0                                 0         0      18             0        25       0       8       0       0      0            0          5            0       0        2        0         0                     0               1         0                 0      0        0          0        0      0       0       0        0          0        0       0      0       0       0       0          1        0      0        0        0           0      0       0          0        0             0            0        0         0         0        0       0     0        0            0       0       0                   0        0        0         0            0       0              0                       0             0      0           0         0      0           0        0         0       0        0        0           0      0            0        0      0                           0        0           0       0          0          0        0          0         0        0     0          0     0      0       0         0            0            0          0      0       0     0        0        0        1\n",
       "2022-06-12  5        0         0                         0                  104      0                                 0         0      2              0        1        0       0       0       0      0            0          0            0       0        0        0         0                     0               0         0                 0      0        0          0        0      0       0       0        0          0        0       0      1       0       0       1          0        0      0        0        0           0      0       0          0        0             0            0        0         0         0        0       0     0        0            0       0       0                   0        0        0         0            0       0              0                       0             0      0           0         0      0           0        0         0       0        0        0           0      0            0        0      0                           0        0           0       0          0          0        0          0         0        0     0          0     0      0       0         0            0            0          0      0       0     0        0        0        1\n",
       "2022-09-22  0        0         0                         0                  0        0                                 0         0      205            0        5        0       0       0       0      0            0          0            0       0        0        0         0                     0               0         0                 0      0        0          0        0      0       0       0        0          0        0       0      95      3       0       0          0        0      0        0        0           0      0       0          0        0             0            0        0         0         0        0       0     0        3            0       0       0                   0        0        0         0            0       0              0                       0             0      0           0         0      0           0        0         0       0        0        0           0      0            0        0      0                           0        0           0       0          0          0        0          0         0        0     0          0     0      0       0         0            0            0          0      0       0     0        0        0        1\n",
       "Name: count, Length: 141, dtype: int64"
      ]
     },
     "execution_count": 15,
     "metadata": {},
     "output_type": "execute_result"
    }
   ],
   "source": [
    "df.value_counts()"
   ]
  },
  {
   "cell_type": "code",
   "execution_count": 16,
   "id": "49535ce1",
   "metadata": {
    "execution": {
     "iopub.execute_input": "2023-11-17T06:45:06.330329Z",
     "iopub.status.busy": "2023-11-17T06:45:06.329947Z",
     "iopub.status.idle": "2023-11-17T06:45:06.340549Z",
     "shell.execute_reply": "2023-11-17T06:45:06.339195Z"
    },
    "papermill": {
     "duration": 0.026552,
     "end_time": "2023-11-17T06:45:06.343249",
     "exception": false,
     "start_time": "2023-11-17T06:45:06.316697",
     "status": "completed"
    },
    "tags": []
   },
   "outputs": [
    {
     "data": {
      "text/plain": [
       "Date                        0\n",
       "Nigeria                     0\n",
       "Cameroon                    0\n",
       "Central African Republic    0\n",
       "Republic of Congo           0\n",
       "                           ..\n",
       "Jordan                      0\n",
       "Guam                        0\n",
       "Ukraine                     0\n",
       "Bahrain                     0\n",
       "China                       0\n",
       "Length: 113, dtype: int64"
      ]
     },
     "execution_count": 16,
     "metadata": {},
     "output_type": "execute_result"
    }
   ],
   "source": [
    "# Checking for null value sum\n",
    "df.isnull().sum()"
   ]
  },
  {
   "cell_type": "code",
   "execution_count": 17,
   "id": "ea10850c",
   "metadata": {
    "execution": {
     "iopub.execute_input": "2023-11-17T06:45:06.369622Z",
     "iopub.status.busy": "2023-11-17T06:45:06.369193Z",
     "iopub.status.idle": "2023-11-17T06:45:06.378718Z",
     "shell.execute_reply": "2023-11-17T06:45:06.377555Z"
    },
    "papermill": {
     "duration": 0.026188,
     "end_time": "2023-11-17T06:45:06.381344",
     "exception": false,
     "start_time": "2023-11-17T06:45:06.355156",
     "status": "completed"
    },
    "tags": []
   },
   "outputs": [
    {
     "data": {
      "text/plain": [
       "Date                        object\n",
       "Nigeria                      int64\n",
       "Cameroon                     int64\n",
       "Central African Republic     int64\n",
       "Republic of Congo            int64\n",
       "                             ...  \n",
       "Jordan                       int64\n",
       "Guam                         int64\n",
       "Ukraine                      int64\n",
       "Bahrain                      int64\n",
       "China                        int64\n",
       "Length: 113, dtype: object"
      ]
     },
     "execution_count": 17,
     "metadata": {},
     "output_type": "execute_result"
    }
   ],
   "source": [
    "# Finding columns datatype\n",
    "df.dtypes"
   ]
  },
  {
   "cell_type": "code",
   "execution_count": 18,
   "id": "d9fd2813",
   "metadata": {
    "execution": {
     "iopub.execute_input": "2023-11-17T06:45:06.407142Z",
     "iopub.status.busy": "2023-11-17T06:45:06.406752Z",
     "iopub.status.idle": "2023-11-17T06:45:06.415661Z",
     "shell.execute_reply": "2023-11-17T06:45:06.414382Z"
    },
    "papermill": {
     "duration": 0.024658,
     "end_time": "2023-11-17T06:45:06.418148",
     "exception": false,
     "start_time": "2023-11-17T06:45:06.393490",
     "status": "completed"
    },
    "tags": []
   },
   "outputs": [
    {
     "data": {
      "text/plain": [
       "0        0\n",
       "1        0\n",
       "2        0\n",
       "3        0\n",
       "4        0\n",
       "      ... \n",
       "136      0\n",
       "137    391\n",
       "138    311\n",
       "139    157\n",
       "140    205\n",
       "Name: United States, Length: 141, dtype: int64"
      ]
     },
     "execution_count": 18,
     "metadata": {},
     "output_type": "execute_result"
    }
   ],
   "source": [
    "df['United States']"
   ]
  },
  {
   "cell_type": "code",
   "execution_count": 19,
   "id": "1d43d99a",
   "metadata": {
    "execution": {
     "iopub.execute_input": "2023-11-17T06:45:06.444420Z",
     "iopub.status.busy": "2023-11-17T06:45:06.444019Z",
     "iopub.status.idle": "2023-11-17T06:45:06.454198Z",
     "shell.execute_reply": "2023-11-17T06:45:06.453068Z"
    },
    "papermill": {
     "duration": 0.026862,
     "end_time": "2023-11-17T06:45:06.457267",
     "exception": false,
     "start_time": "2023-11-17T06:45:06.430405",
     "status": "completed"
    },
    "tags": []
   },
   "outputs": [
    {
     "name": "stdout",
     "output_type": "stream",
     "text": [
      "United States                       24403\n",
      "Brazil                               7300\n",
      "Spain                                7083\n",
      "France                               3934\n",
      "Germany                              3590\n",
      "England                              3412\n",
      "Peru                                 2251\n",
      "Colombia                             1653\n",
      "Canada                               1388\n",
      "Mexico                               1367\n",
      "Netherlands                          1221\n",
      "Portugal                              908\n",
      "Italy                                 837\n",
      "Chile                                 783\n",
      "Belgium                               757\n",
      "Switzerland                           503\n",
      "Argentina                             326\n",
      "Austria                               304\n",
      "Nigeria                               277\n",
      "Israel                                250\n",
      "Democratic Republic Of The Congo      195\n",
      "Sweden                                186\n",
      "Denmark                               183\n",
      "Ireland                               178\n",
      "Puerto Rico                           173\n",
      "Poland                                173\n",
      "Bolivia                               155\n",
      "Australia                             132\n",
      "Scotland                               93\n",
      "Ecuador                                93\n",
      "Norway                                 90\n",
      "Ghana                                  84\n",
      "Hungary                                77\n",
      "Greece                                 72\n",
      "Czech Republic                         66\n",
      "Luxembourg                             55\n",
      "Wales                                  46\n",
      "Slovenia                               46\n",
      "Serbia                                 40\n",
      "Romania                                39\n",
      "Northern Ireland                       34\n",
      "Malta                                  33\n",
      "Finland                                33\n",
      "Dominican Republic                     31\n",
      "Croatia                                29\n",
      "Singapore                              19\n",
      "United Arab Emirates                   16\n",
      "Guatemala                              15\n",
      "Slovakia                               14\n",
      "Jamaica                                13\n",
      "Panama                                 13\n",
      "Iceland                                12\n",
      "India                                  12\n",
      "Turkey                                 11\n",
      "Lebanon                                11\n",
      "Estonia                                11\n",
      "Saudi Arabia                            8\n",
      "Central African Republic                8\n",
      "Thailand                                8\n",
      "Cameroon                                7\n",
      "Martinique                              7\n",
      "Honduras                                6\n",
      "Bulgaria                                6\n",
      "Uruguay                                 6\n",
      "Sudan                                   6\n",
      "Gibraltar                               6\n",
      "Qatar                                   5\n",
      "Cyprus                                  5\n",
      "Latvia                                  5\n",
      "Lithuania                               5\n",
      "Venezuela                               5\n",
      "New Zealand                             5\n",
      "South Africa                            5\n",
      "Andorra                                 4\n",
      "Costa Rica                              4\n",
      "Philippines                             4\n",
      "Japan                                   4\n",
      "El Salvador                             4\n",
      "Curaçao                                 3\n",
      "Benin                                   3\n",
      "Bosnia And Herzegovina                  3\n",
      "Monaco                                  3\n",
      "Taiwan                                  3\n",
      "Morocco                                 3\n",
      "Aruba                                   3\n",
      "Republic of Congo                       3\n",
      "Guyana                                  2\n",
      "Cuba                                    2\n",
      "Ukraine                                 2\n",
      "Greenland                               2\n",
      "Moldova                                 2\n",
      "South Sudan                             2\n",
      "Bahamas                                 2\n",
      "Montenegro                              2\n",
      "Russia                                  2\n",
      "Liberia                                 2\n",
      "Georgia                                 2\n",
      "South Korea                             2\n",
      "Bahrain                                 1\n",
      "Guam                                    1\n",
      "Jordan                                  1\n",
      "Egypt                                   1\n",
      "Hong Kong                               1\n",
      "Paraguay                                1\n",
      "Saint Martin (French part)              1\n",
      "New Caledonia                           1\n",
      "Barbados                                1\n",
      "Bermuda                                 1\n",
      "Indonesia                               1\n",
      "Iran                                    1\n",
      "Guadeloupe                              1\n",
      "China                                   1\n"
     ]
    }
   ],
   "source": [
    "# Sorting country names based on total number of cases\n",
    "df1 = df.iloc[:, 1:].sum(axis=0)\n",
    "print(df1.sort_values(ascending=False).to_string())"
   ]
  },
  {
   "cell_type": "code",
   "execution_count": 20,
   "id": "1d8f690b",
   "metadata": {
    "execution": {
     "iopub.execute_input": "2023-11-17T06:45:06.484384Z",
     "iopub.status.busy": "2023-11-17T06:45:06.483368Z",
     "iopub.status.idle": "2023-11-17T06:45:06.499388Z",
     "shell.execute_reply": "2023-11-17T06:45:06.498213Z"
    },
    "papermill": {
     "duration": 0.032358,
     "end_time": "2023-11-17T06:45:06.501983",
     "exception": false,
     "start_time": "2023-11-17T06:45:06.469625",
     "status": "completed"
    },
    "tags": []
   },
   "outputs": [
    {
     "data": {
      "text/plain": [
       "0     2022-01-31\n",
       "1     2022-02-17\n",
       "2     2022-02-28\n",
       "3     2022-03-04\n",
       "4     2022-03-31\n",
       "         ...    \n",
       "136   2022-09-18\n",
       "137   2022-09-19\n",
       "138   2022-09-20\n",
       "139   2022-09-21\n",
       "140   2022-09-22\n",
       "Name: Date, Length: 141, dtype: datetime64[ns]"
      ]
     },
     "execution_count": 20,
     "metadata": {},
     "output_type": "execute_result"
    }
   ],
   "source": [
    "# parse the dates, currently coded as strings, into datetime format\n",
    "\n",
    "df1 = pd.to_datetime(df['Date'])\n",
    "df1\n"
   ]
  },
  {
   "cell_type": "code",
   "execution_count": 21,
   "id": "9efb5d1f",
   "metadata": {
    "execution": {
     "iopub.execute_input": "2023-11-17T06:45:06.529731Z",
     "iopub.status.busy": "2023-11-17T06:45:06.529355Z",
     "iopub.status.idle": "2023-11-17T06:45:06.539439Z",
     "shell.execute_reply": "2023-11-17T06:45:06.538337Z"
    },
    "papermill": {
     "duration": 0.02708,
     "end_time": "2023-11-17T06:45:06.541883",
     "exception": false,
     "start_time": "2023-11-17T06:45:06.514803",
     "status": "completed"
    },
    "tags": []
   },
   "outputs": [
    {
     "data": {
      "text/plain": [
       "array([1, 2, 3, 4, 5, 6, 7, 8, 9])"
      ]
     },
     "execution_count": 21,
     "metadata": {},
     "output_type": "execute_result"
    }
   ],
   "source": [
    "# Extract month from date\n",
    "\n",
    "df['Month'] = df1.dt.month\n",
    "df['Month'].unique()"
   ]
  },
  {
   "cell_type": "markdown",
   "id": "e11ce6e2",
   "metadata": {
    "papermill": {
     "duration": 0.012684,
     "end_time": "2023-11-17T06:45:06.567523",
     "exception": false,
     "start_time": "2023-11-17T06:45:06.554839",
     "status": "completed"
    },
    "tags": []
   },
   "source": [
    "<h1 style=\"padding:5px;background-color:rgb(15, 100, 150);margin:0;color:whote;font-size:300%;text-align:center;border-radius: 50px 50px;overflow:hidden;font-weight:500\">Visulization-Matplotlib</h1>"
   ]
  },
  {
   "cell_type": "markdown",
   "id": "9b2a2dca",
   "metadata": {
    "papermill": {
     "duration": 0.012399,
     "end_time": "2023-11-17T06:45:06.593215",
     "exception": false,
     "start_time": "2023-11-17T06:45:06.580816",
     "status": "completed"
    },
    "tags": []
   },
   "source": [
    "#### Bar plot"
   ]
  },
  {
   "cell_type": "code",
   "execution_count": 22,
   "id": "b2fe25ab",
   "metadata": {
    "execution": {
     "iopub.execute_input": "2023-11-17T06:45:06.621272Z",
     "iopub.status.busy": "2023-11-17T06:45:06.620865Z",
     "iopub.status.idle": "2023-11-17T06:45:07.198506Z",
     "shell.execute_reply": "2023-11-17T06:45:07.197292Z"
    },
    "papermill": {
     "duration": 0.595308,
     "end_time": "2023-11-17T06:45:07.201294",
     "exception": false,
     "start_time": "2023-11-17T06:45:06.605986",
     "status": "completed"
    },
    "tags": []
   },
   "outputs": [
    {
     "data": {
      "image/png": "[encoded data removed]",
      "text/plain": [
       "<Figure size 1000x600 with 1 Axes>"
      ]
     },
     "metadata": {},
     "output_type": "display_data"
    }
   ],
   "source": [
    "plt.figure(figsize=(10, 6))\n",
    "plt.bar(df['Month'], df['United States'])\n",
    "plt.xlabel('Months')\n",
    "plt.ylabel('Total cases')\n",
    "plt.title('United States')\n",
    "plt.grid(True)\n",
    "plt.show()"
   ]
  },
  {
   "cell_type": "code",
   "execution_count": 23,
   "id": "e4ab2654",
   "metadata": {
    "execution": {
     "iopub.execute_input": "2023-11-17T06:45:07.230545Z",
     "iopub.status.busy": "2023-11-17T06:45:07.230108Z",
     "iopub.status.idle": "2023-11-17T06:45:07.787547Z",
     "shell.execute_reply": "2023-11-17T06:45:07.786236Z"
    },
    "papermill": {
     "duration": 0.575214,
     "end_time": "2023-11-17T06:45:07.790368",
     "exception": false,
     "start_time": "2023-11-17T06:45:07.215154",
     "status": "completed"
    },
    "tags": []
   },
   "outputs": [
    {
     "data": {
      "image/png": "[encoded data removed]",
      "text/plain": [
       "<Figure size 1000x600 with 1 Axes>"
      ]
     },
     "metadata": {},
     "output_type": "display_data"
    }
   ],
   "source": [
    "plt.figure(figsize=(10, 6))\n",
    "plt.bar(df['Month'], df['India'])\n",
    "plt.xlabel('Months')\n",
    "plt.ylabel('Total cases')\n",
    "plt.title('India')\n",
    "plt.grid(True)\n",
    "plt.show()"
   ]
  },
  {
   "cell_type": "markdown",
   "id": "3752873d",
   "metadata": {
    "papermill": {
     "duration": 0.013343,
     "end_time": "2023-11-17T06:45:07.818198",
     "exception": false,
     "start_time": "2023-11-17T06:45:07.804855",
     "status": "completed"
    },
    "tags": []
   },
   "source": [
    "#### Line Plot"
   ]
  },
  {
   "cell_type": "code",
   "execution_count": 24,
   "id": "f0110127",
   "metadata": {
    "execution": {
     "iopub.execute_input": "2023-11-17T06:45:07.848227Z",
     "iopub.status.busy": "2023-11-17T06:45:07.847127Z",
     "iopub.status.idle": "2023-11-17T06:45:08.198961Z",
     "shell.execute_reply": "2023-11-17T06:45:08.197705Z"
    },
    "papermill": {
     "duration": 0.369867,
     "end_time": "2023-11-17T06:45:08.201616",
     "exception": false,
     "start_time": "2023-11-17T06:45:07.831749",
     "status": "completed"
    },
    "tags": []
   },
   "outputs": [
    {
     "data": {
      "image/png": "[encoded data removed]",
      "text/plain": [
       "<Figure size 1000x600 with 1 Axes>"
      ]
     },
     "metadata": {},
     "output_type": "display_data"
    }
   ],
   "source": [
    "plt.figure(figsize=(10, 6))\n",
    "plt.plot(df['Month'], df['United States'])\n",
    "plt.title('United States')\n",
    "plt.xlabel('Months')\n",
    "plt.ylabel('Total cases')\n",
    "plt.grid(True)\n",
    "plt.show()"
   ]
  },
  {
   "cell_type": "code",
   "execution_count": 25,
   "id": "e8977730",
   "metadata": {
    "execution": {
     "iopub.execute_input": "2023-11-17T06:45:08.232319Z",
     "iopub.status.busy": "2023-11-17T06:45:08.231606Z",
     "iopub.status.idle": "2023-11-17T06:45:08.584153Z",
     "shell.execute_reply": "2023-11-17T06:45:08.582556Z"
    },
    "papermill": {
     "duration": 0.37105,
     "end_time": "2023-11-17T06:45:08.586957",
     "exception": false,
     "start_time": "2023-11-17T06:45:08.215907",
     "status": "completed"
    },
    "tags": []
   },
   "outputs": [
    {
     "data": {
      "image/png": "[encoded data removed]",
      "text/plain": [
       "<Figure size 1000x600 with 1 Axes>"
      ]
     },
     "metadata": {},
     "output_type": "display_data"
    }
   ],
   "source": [
    "plt.figure(figsize=(10, 6))\n",
    "plt.plot(df['Month'], df['India'])\n",
    "plt.title('India')\n",
    "plt.xlabel('Months')\n",
    "plt.ylabel('Total cases')\n",
    "plt.grid(True)\n",
    "plt.show()"
   ]
  },
  {
   "cell_type": "markdown",
   "id": "44895187",
   "metadata": {
    "papermill": {
     "duration": 0.014288,
     "end_time": "2023-11-17T06:45:08.615833",
     "exception": false,
     "start_time": "2023-11-17T06:45:08.601545",
     "status": "completed"
    },
    "tags": []
   },
   "source": [
    "#### scatter Plot"
   ]
  },
  {
   "cell_type": "code",
   "execution_count": null,
   "id": "54a5d965",
   "metadata": {
    "execution": {
     "iopub.execute_input": "2023-11-17T06:45:08.647365Z",
     "iopub.status.busy": "2023-11-17T06:45:08.646851Z",
     "iopub.status.idle": "2023-11-17T06:45:08.989754Z",
     "shell.execute_reply": "2023-11-17T06:45:08.988285Z"
    },
    "papermill": {
     "duration": 0.362497,
     "end_time": "2023-11-17T06:45:08.993002",
     "exception": false,
     "start_time": "2023-11-17T06:45:08.630505",
     "status": "completed"
    },
    "tags": []
   },
   "outputs": [],
   "source": []
  },
  {
   "cell_type": "code",
   "execution_count": null,
   "id": "a2a134fb",
   "metadata": {},
   "outputs": [],
   "source": []
  }
 ],
 "metadata": {
  "kaggle": {
   "accelerator": "none",
   "dataSources": [
    {
     "datasetId": 2379733,
     "sourceId": 4308954,
     "sourceType": "datasetVersion"
    }
   ],
   "dockerImageVersionId": 30558,
   "isGpuEnabled": false,
   "isInternetEnabled": true,
   "language": "python",
   "sourceType": "notebook"
  },
  "kernelspec": {
   "display_name": "Python 3",
   "language": "python",
   "name": "python3"
  },
  "language_info": {
   "codemirror_mode": {
    "name": "ipython",
    "version": 3
   },
   "file_extension": ".py",
   "mimetype": "text/x-python",
   "name": "python",
   "nbconvert_exporter": "python",
   "pygments_lexer": "ipython3",
   "version": "3.11.5"
  },
  "papermill": {
   "default_parameters": {},
   "duration": 9.722198,
   "end_time": "2023-11-17T06:45:09.530276",
   "environment_variables": {},
   "exception": null,
   "input_path": "__notebook__.ipynb",
   "output_path": "__notebook__.ipynb",
   "parameters": {},
   "start_time": "2023-11-17T06:44:59.808078",
   "version": "2.4.0"
  }
 },
 "nbformat": 4,
 "nbformat_minor": 5
}
